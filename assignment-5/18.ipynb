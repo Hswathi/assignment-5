{
 "cells": [
  {
   "cell_type": "code",
   "execution_count": null,
   "id": "d83bd407",
   "metadata": {},
   "outputs": [],
   "source": [
    "amount = \"32.054,23\"\n",
    "maketrans = amount.maketrans\n",
    "amount = amount.translate(maketrans(',.', '.,'))\n",
    "print(amount)"
   ]
  }
 ],
 "metadata": {
  "kernelspec": {
   "display_name": "Python 3 (ipykernel)",
   "language": "python",
   "name": "python3"
  },
  "language_info": {
   "codemirror_mode": {
    "name": "ipython",
    "version": 3
   },
   "file_extension": ".py",
   "mimetype": "text/x-python",
   "name": "python",
   "nbconvert_exporter": "python",
   "pygments_lexer": "ipython3",
   "version": "3.9.13"
  }
 },
 "nbformat": 4,
 "nbformat_minor": 5
}
