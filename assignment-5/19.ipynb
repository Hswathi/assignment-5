{
 "cells": [
  {
   "cell_type": "code",
   "execution_count": 1,
   "id": "074b156b",
   "metadata": {},
   "outputs": [
    {
     "name": "stdout",
     "output_type": "stream",
     "text": [
      "Original Strings:\n",
      " Write a Java program to sort an array of given integers using Quick sort Algorithm.\n",
      "Smallest word: a\n",
      "Largest word: Algorithm.\n"
     ]
    }
   ],
   "source": [
    "def smallest_largest_words(str1):\n",
    "    word = \"\";\n",
    "    all_words = [];\n",
    "    str1 = str1 + \" \";\n",
    "    for i in range(0, len(str1)):\n",
    "        if (str1[i] != ' '):\n",
    "            word = word + str1[i];\n",
    "        else:\n",
    "            all_words.append(word);\n",
    "            word = \"\";\n",
    "\n",
    "    small = large = all_words[0];\n",
    "\n",
    "    # Find smallest and largest word in the str1\n",
    "    for k in range(0, len(all_words)):\n",
    "        if (len(small) > len(all_words[k])):\n",
    "            small = all_words[k];\n",
    "        if (len(large) < len(all_words[k])):\n",
    "            large = all_words[k];\n",
    "    return small, large;\n",
    "\n",
    "\n",
    "str1 = \"Write a Java program to sort an array of given integers using Quick sort Algorithm.\";\n",
    "print(\"Original Strings:\\n\", str1)\n",
    "small, large = smallest_largest_words(str1)\n",
    "print(\"Smallest word: \" + small);\n",
    "print(\"Largest word: \" + large);"
   ]
  },
  {
   "cell_type": "code",
   "execution_count": null,
   "id": "697b66e0",
   "metadata": {},
   "outputs": [],
   "source": []
  }
 ],
 "metadata": {
  "kernelspec": {
   "display_name": "Python 3 (ipykernel)",
   "language": "python",
   "name": "python3"
  },
  "language_info": {
   "codemirror_mode": {
    "name": "ipython",
    "version": 3
   },
   "file_extension": ".py",
   "mimetype": "text/x-python",
   "name": "python",
   "nbconvert_exporter": "python",
   "pygments_lexer": "ipython3",
   "version": "3.9.13"
  }
 },
 "nbformat": 4,
 "nbformat_minor": 5
}
