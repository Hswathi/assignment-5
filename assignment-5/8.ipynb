{
 "cells": [
  {
   "cell_type": "code",
   "execution_count": null,
   "id": "578382ba",
   "metadata": {},
   "outputs": [],
   "source": [
    "def find_longest_word(words_list):\n",
    "    word_len = []\n",
    "    for n in words_list:\n",
    "        word_len.append((len(n), n))\n",
    "    word_len.sort()\n",
    "    return word_len[-1][0], word_len[-1][1]\n",
    "result = find_longest_word([\"PHP\", \"Exercises\", \"Backend\"])\n",
    "print(\"\\nLongest word: \",result[1])\n",
    "print(\"Length of the longest word: \",result[0])"
   ]
  }
 ],
 "metadata": {
  "kernelspec": {
   "display_name": "Python 3 (ipykernel)",
   "language": "python",
   "name": "python3"
  },
  "language_info": {
   "codemirror_mode": {
    "name": "ipython",
    "version": 3
   },
   "file_extension": ".py",
   "mimetype": "text/x-python",
   "name": "python",
   "nbconvert_exporter": "python",
   "pygments_lexer": "ipython3",
   "version": "3.9.13"
  }
 },
 "nbformat": 4,
 "nbformat_minor": 5
}
