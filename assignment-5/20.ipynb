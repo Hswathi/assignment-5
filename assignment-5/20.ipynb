{
 "cells": [
  {
   "cell_type": "code",
   "execution_count": 1,
   "id": "d0cbdce5",
   "metadata": {},
   "outputs": [
    {
     "name": "stdout",
     "output_type": "stream",
     "text": [
      "heloworldhelo\n",
      "abca\n"
     ]
    }
   ],
   "source": [
    "def removeConsecutiveDuplicates(s):\n",
    "    if len(s) < 2:\n",
    "        return s\n",
    "    if s[0] != s[1]:\n",
    "        return s[0] + removeConsecutiveDuplicates(s[1:])\n",
    "    return removeConsecutiveDuplicates(s[1:])\n",
    "\n",
    "s1 = 'helloworldhello'\n",
    "print(removeConsecutiveDuplicates(s1)) \n",
    "s2 = 'aabcca'\n",
    "print(removeConsecutiveDuplicates(s2)) "
   ]
  },
  {
   "cell_type": "code",
   "execution_count": null,
   "id": "72be45e1",
   "metadata": {},
   "outputs": [],
   "source": []
  }
 ],
 "metadata": {
  "kernelspec": {
   "display_name": "Python 3 (ipykernel)",
   "language": "python",
   "name": "python3"
  },
  "language_info": {
   "codemirror_mode": {
    "name": "ipython",
    "version": 3
   },
   "file_extension": ".py",
   "mimetype": "text/x-python",
   "name": "python",
   "nbconvert_exporter": "python",
   "pygments_lexer": "ipython3",
   "version": "3.9.13"
  }
 },
 "nbformat": 4,
 "nbformat_minor": 5
}
