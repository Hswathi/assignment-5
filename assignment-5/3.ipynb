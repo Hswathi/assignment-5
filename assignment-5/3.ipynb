{
 "cells": [
  {
   "cell_type": "code",
   "execution_count": 1,
   "id": "58ead5ab",
   "metadata": {},
   "outputs": [
    {
     "name": "stdout",
     "output_type": "stream",
     "text": [
      "Input string = thisisniceone\n",
      "New String = thne\n"
     ]
    }
   ],
   "source": [
    "inputString = \"thisisniceone\"\n",
    "\n",
    "count = 0\n",
    "\n",
    "# Loop through the string\n",
    "for i in inputString:\n",
    "    count = count + 1\n",
    "newString = inputString[0:2] + inputString[count - 2: count]\n",
    "\n",
    "# Printing the new String\n",
    "print(\"Input string = \" + inputString)\n",
    "print(\"New String = \" + newString)"
   ]
  },
  {
   "cell_type": "code",
   "execution_count": null,
   "id": "2e396e47",
   "metadata": {},
   "outputs": [],
   "source": []
  }
 ],
 "metadata": {
  "kernelspec": {
   "display_name": "Python 3 (ipykernel)",
   "language": "python",
   "name": "python3"
  },
  "language_info": {
   "codemirror_mode": {
    "name": "ipython",
    "version": 3
   },
   "file_extension": ".py",
   "mimetype": "text/x-python",
   "name": "python",
   "nbconvert_exporter": "python",
   "pygments_lexer": "ipython3",
   "version": "3.9.13"
  }
 },
 "nbformat": 4,
 "nbformat_minor": 5
}
